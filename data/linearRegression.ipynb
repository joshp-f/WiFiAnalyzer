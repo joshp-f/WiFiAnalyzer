{
 "cells": [
  {
   "cell_type": "code",
   "execution_count": 192,
   "metadata": {},
   "outputs": [],
   "source": [
    "import pandas as pd\n",
    "import numpy as np\n",
    "from sklearn.linear_model import LinearRegression\n",
    "from sklearn.model_selection import cross_validate\n",
    "import scipy.stats\n",
    "import seaborn as sns"
   ]
  },
  {
   "cell_type": "code",
   "execution_count": 193,
   "metadata": {},
   "outputs": [],
   "source": [
    "basedf = pd.read_csv('measured_data/log_theatre1.txt',sep='|')\n",
    "movedf = pd.read_csv('measured_data/log_theatre2.txt',sep='|')"
   ]
  },
  {
   "cell_type": "code",
   "execution_count": 194,
   "metadata": {},
   "outputs": [],
   "source": [
    "def getProcessedDF(initialdf):\n",
    "    \n",
    "    splitpos = []\n",
    "    for index, row in initialdf.iterrows():\n",
    "       timestamp = row['Time Stamp']\n",
    "       if timestamp == 'Time Stamp':\n",
    "            splitpos.append(index)\n",
    "    dfs = np.split(initialdf, splitpos, axis=0)\n",
    "    \n",
    "    def deleteHead(df):\n",
    "        return df.iloc[1:]\n",
    "    def makeNumeric(df):\n",
    "        df.RSSI = df.RSSI.apply(float)\n",
    "        return df\n",
    "    def averageRSSI(df):\n",
    "        return df.groupby('BSSID', as_index=False).mean()\n",
    "    def sortByRSSI(df):\n",
    "        return df.sort_values('RSSI',ascending=False)\n",
    "    def getDist(df):\n",
    "        return float((df['dist'].iloc[0]))\n",
    "\n",
    "    dfs = list(map(deleteHead,dfs))\n",
    "    dists = np.array(list(map(getDist,dfs)))\n",
    "\n",
    "    dfs = list(map(makeNumeric,dfs))\n",
    "    dfs = list(map(averageRSSI,dfs))\n",
    "    dfs = list(map(sortByRSSI,dfs))\n",
    "    return dfs, dists # for single sample example\n",
    "\n",
    "\n",
    "\n"
   ]
  },
  {
   "cell_type": "code",
   "execution_count": 195,
   "metadata": {},
   "outputs": [],
   "source": [
    "def getRankDict(df):\n",
    "        rankdict = {}\n",
    "        for index in range(len(df)):\n",
    "            row = df.iloc[index]\n",
    "            rankdict[row['BSSID']] = index\n",
    "        return rankdict"
   ]
  },
  {
   "cell_type": "code",
   "execution_count": 196,
   "metadata": {},
   "outputs": [
    {
     "name": "stdout",
     "output_type": "stream",
     "text": [
      "14 14\n"
     ]
    }
   ],
   "source": [
    "basedfs, basedists = getProcessedDF(basedf)\n",
    "movedfs, movedists = getProcessedDF(movedf)\n",
    "dists = movedists\n",
    "print(len(dists),len(basedists))\n",
    "def getSpearmanDicts(dfs):\n",
    "    spearmanDicts = []\n",
    "    for i in range(0,len(dfs)):\n",
    "        spearmanDicts.append(getRankDict(dfs[i]))\n",
    "    return spearmanDicts\n",
    "#some random headers in datafrAMES !!\n",
    "baseSpearmanDicts = getSpearmanDicts(basedfs)\n",
    "moveSpearmanDicts = getSpearmanDicts(movedfs)\n"
   ]
  },
  {
   "cell_type": "code",
   "execution_count": 197,
   "metadata": {},
   "outputs": [],
   "source": [
    "def getSpearmans(dict1,dict2):\n",
    "    intersection = set(dict1.keys()) & set(dict2.keys())\n",
    "    result = []\n",
    "    for k in intersection:\n",
    "        result.append((dict1[k],dict2[k]))\n",
    "    result = np.array(result)\n",
    "    resValue,cor = scipy.stats.spearmanr(result)\n",
    "    print(cor)\n",
    "    return resValue"
   ]
  },
  {
   "cell_type": "code",
   "execution_count": 198,
   "metadata": {},
   "outputs": [],
   "source": [
    "def  getJacard(dict1,dict2):\n",
    "    set1 = set(dict1.keys())\n",
    "    set2 = set(dict2.keys())\n",
    "    print(len(set1 & set2),len(set1),len(set2))\n",
    "    jacard = len(set1 & set2) / len(set1 | set2)\n",
    "    return jacard"
   ]
  },
  {
   "cell_type": "code",
   "execution_count": 199,
   "metadata": {},
   "outputs": [
    {
     "name": "stdout",
     "output_type": "stream",
     "text": [
      "8.509307188619566e-13\n",
      "41 56 44\n",
      "4.8563455591821973e-14\n",
      "41 54 50\n",
      "9.978937067588658e-16\n",
      "45 55 52\n",
      "5.94723971408662e-11\n",
      "44 55 53\n",
      "6.130760918103444e-12\n",
      "46 58 49\n",
      "8.843785727045126e-09\n",
      "34 38 46\n",
      "1.1145844191633471e-13\n",
      "47 55 50\n",
      "3.432687343970062e-10\n",
      "32 45 43\n",
      "3.397688250597222e-11\n",
      "42 50 48\n",
      "1.5525856798341324e-09\n",
      "31 40 41\n",
      "1.68642343748401e-09\n",
      "35 54 42\n",
      "1.0384482884717002e-09\n",
      "40 50 52\n",
      "4.693312447019872e-07\n",
      "33 52 40\n",
      "5.1574552748139653e-08\n",
      "38 48 49\n"
     ]
    }
   ],
   "source": [
    "spearmans = []\n",
    "jacards = []\n",
    "for base,df in zip(baseSpearmanDicts,moveSpearmanDicts):\n",
    "    spearmans.append(getSpearmans(df,base))\n",
    "    jacards.append(getJacard(df,base))\n",
    "    \n",
    "modelInput = np.array([spearmans,jacards])\n",
    "Y = np.array(dists)"
   ]
  },
  {
   "cell_type": "code",
   "execution_count": 200,
   "metadata": {},
   "outputs": [],
   "source": [
    "labels = Y[:,np.newaxis]\n",
    "X = modelInput.swapaxes(1,0)"
   ]
  },
  {
   "cell_type": "code",
   "execution_count": 201,
   "metadata": {},
   "outputs": [],
   "source": [
    "#X = np.expand_dims(X[:,0],axis=1)"
   ]
  },
  {
   "cell_type": "code",
   "execution_count": 202,
   "metadata": {},
   "outputs": [],
   "source": [
    "model = LinearRegression()"
   ]
  },
  {
   "cell_type": "code",
   "execution_count": 203,
   "metadata": {},
   "outputs": [
    {
     "data": {
      "text/plain": [
       "{'fit_time': array([0.        , 0.00099707, 0.00098395, 0.        , 0.00099826,\n",
       "        0.00099778, 0.        , 0.0009954 , 0.00099826, 0.        ]),\n",
       " 'score_time': array([0.0009985 , 0.        , 0.        , 0.00099349, 0.00099587,\n",
       "        0.        , 0.00099778, 0.        , 0.        , 0.        ]),\n",
       " 'test_score': array([-15.51670138,  -9.05725341, -12.51893504,  -7.59945962,\n",
       "         -4.99460293,  -7.23055083,  -5.51744045,  -9.96560472,\n",
       "         -2.16462176,  -4.92076842]),\n",
       " 'train_score': array([-4.82609157, -5.39280027, -4.90135547, -5.69052444, -5.82428454,\n",
       "        -5.7947653 , -5.797666  , -5.49712955, -6.06432268, -5.90790771])}"
      ]
     },
     "execution_count": 203,
     "metadata": {},
     "output_type": "execute_result"
    }
   ],
   "source": [
    "cv"
   ]
  },
  {
   "cell_type": "code",
   "execution_count": 204,
   "metadata": {},
   "outputs": [
    {
     "data": {
      "text/plain": [
       "<matplotlib.axes._subplots.AxesSubplot at 0x2a564364d68>"
      ]
     },
     "execution_count": 204,
     "metadata": {},
     "output_type": "execute_result"
    },
    {
     "data": {
      "image/png": "[encoded data removed]",
      "text/plain": [
       "<Figure size 432x288 with 1 Axes>"
      ]
     },
     "metadata": {},
     "output_type": "display_data"
    }
   ],
   "source": [
    "sns.regplot(labels[:,0],X[:,0])"
   ]
  },
  {
   "cell_type": "code",
   "execution_count": 205,
   "metadata": {
    "scrolled": true
   },
   "outputs": [
    {
     "name": "stdout",
     "output_type": "stream",
     "text": [
      "(array([4.85100743]), array([1.]))\n",
      "(array([4.28147341]), array([2.]))\n",
      "(array([2.62399023]), array([3.]))\n",
      "(array([8.5481671]), array([4.]))\n",
      "(array([6.61696927]), array([5.]))\n",
      "(array([8.43057929]), array([6.]))\n",
      "(array([3.76647848]), array([7.]))\n",
      "(array([6.95366264]), array([8.]))\n",
      "(array([6.35821854]), array([9.]))\n",
      "(array([6.68102893]), array([10.]))\n",
      "(array([9.39196447]), array([11.]))\n",
      "(array([9.86605667]), array([12.]))\n",
      "(array([14.08909007]), array([13.]))\n",
      "(array([12.54131347]), array([14.]))\n"
     ]
    }
   ],
   "source": [
    "model.fit(X,labels)\n",
    "for a in zip(model.predict(X),labels):\n",
    "    print(a)"
   ]
  },
  {
   "cell_type": "code",
   "execution_count": 206,
   "metadata": {},
   "outputs": [],
   "source": [
    "import pickle"
   ]
  },
  {
   "cell_type": "code",
   "execution_count": 207,
   "metadata": {},
   "outputs": [],
   "source": [
    "f = open('modeldata','wb')"
   ]
  },
  {
   "cell_type": "code",
   "execution_count": 208,
   "metadata": {},
   "outputs": [],
   "source": [
    "pickle.dump(model,f)"
   ]
  },
  {
   "cell_type": "code",
   "execution_count": 209,
   "metadata": {},
   "outputs": [],
   "source": [
    "f.close()"
   ]
  },
  {
   "cell_type": "code",
   "execution_count": 210,
   "metadata": {},
   "outputs": [],
   "source": [
    "f = open('modeldata','rb')\n",
    "model2 = pickle.load(f)\n"
   ]
  },
  {
   "cell_type": "code",
   "execution_count": 211,
   "metadata": {},
   "outputs": [
    {
     "data": {
      "text/plain": [
       "LinearRegression(copy_X=True, fit_intercept=True, n_jobs=1, normalize=False)"
      ]
     },
     "execution_count": 211,
     "metadata": {},
     "output_type": "execute_result"
    }
   ],
   "source": [
    "model2.fit(X,labels)"
   ]
  },
  {
   "cell_type": "code",
   "execution_count": 212,
   "metadata": {},
   "outputs": [
    {
     "data": {
      "text/plain": [
       "array([[-64.82117334, -17.54966977]])"
      ]
     },
     "execution_count": 212,
     "metadata": {},
     "output_type": "execute_result"
    }
   ],
   "source": [
    "model2.coef_"
   ]
  },
  {
   "cell_type": "code",
   "execution_count": 213,
   "metadata": {},
   "outputs": [
    {
     "data": {
      "text/plain": [
       "array([72.60754639])"
      ]
     },
     "execution_count": 213,
     "metadata": {},
     "output_type": "execute_result"
    }
   ],
   "source": [
    "model2.intercept_"
   ]
  },
  {
   "cell_type": "code",
   "execution_count": null,
   "metadata": {},
   "outputs": [],
   "source": []
  }
 ],
 "metadata": {
  "kernelspec": {
   "display_name": "Python 3",
   "language": "python",
   "name": "python3"
  },
  "language_info": {
   "codemirror_mode": {
    "name": "ipython",
    "version": 3
   },
   "file_extension": ".py",
   "mimetype": "text/x-python",
   "name": "python",
   "nbconvert_exporter": "python",
   "pygments_lexer": "ipython3",
   "version": "3.6.5"
  }
 },
 "nbformat": 4,
 "nbformat_minor": 2
}
