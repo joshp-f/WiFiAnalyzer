{
 "cells": [
  {
   "cell_type": "code",
   "execution_count": 159,
   "metadata": {},
   "outputs": [],
   "source": [
    "import pandas as pd\n",
    "import numpy as np\n",
    "from sklearn.linear_model import LinearRegression\n",
    "from sklearn.model_selection import cross_validate\n",
    "import scipy.stats\n",
    "import seaborn as sns"
   ]
  },
  {
   "cell_type": "code",
   "execution_count": 160,
   "metadata": {},
   "outputs": [],
   "source": [
    "df1 = pd.read_csv('measured_data/log_outdoor.txt',sep='|')"
   ]
  },
  {
   "cell_type": "code",
   "execution_count": 161,
   "metadata": {},
   "outputs": [],
   "source": [
    "def getProcessedDF(initialdf):\n",
    "    \n",
    "    splitpos = []\n",
    "    for index, row in initialdf.iterrows():\n",
    "       timestamp = row['Time Stamp']\n",
    "       if timestamp == 'Time Stamp':\n",
    "            splitpos.append(index)\n",
    "    dfs = np.split(initialdf, splitpos, axis=0)\n",
    "    \n",
    "    def deleteHead(df):\n",
    "        return df.iloc[1:]\n",
    "    def makeNumeric(df):\n",
    "        df.RSSI = df.RSSI.apply(float)\n",
    "        return df\n",
    "    def averageRSSI(df):\n",
    "        return df.groupby('BSSID', as_index=False).mean()\n",
    "    def sortByRSSI(df):\n",
    "        return df.sort_values('RSSI',ascending=False)\n",
    "    def getDist(df):\n",
    "        return float((df['dist'].iloc[0]))\n",
    "\n",
    "    dfs = list(map(deleteHead,dfs))\n",
    "    dists = np.array(list(map(getDist,dfs)))\n",
    "\n",
    "    dfs = list(map(makeNumeric,dfs))\n",
    "    dfs = list(map(averageRSSI,dfs))\n",
    "    dfs = list(map(sortByRSSI,dfs))\n",
    "    return dfs, dists # for single sample example\n",
    "\n",
    "\n",
    "\n"
   ]
  },
  {
   "cell_type": "code",
   "execution_count": 162,
   "metadata": {},
   "outputs": [],
   "source": [
    "def getRankDict(prev,df,intersection=False):\n",
    "        intersection = set(prev['BSSID']) & set(df['BSSID'])\n",
    "        rankdict = {}\n",
    "        counter = 1\n",
    "        for index in range(len(df)):\n",
    "            row = df.iloc[index]\n",
    "            if not intersection: rankdict[row['BSSID']] = index\n",
    "            else:\n",
    "                if row['BSSID'] in intersection:\n",
    "                    rankdict[row['BSSID']] = counter\n",
    "                    counter += 1\n",
    "        return rankdict"
   ]
  },
  {
   "cell_type": "code",
   "execution_count": 163,
   "metadata": {},
   "outputs": [],
   "source": [
    "dfs, dists = getProcessedDF(df1)\n",
    "dfs = dfs[:21]\n",
    "spearmanDicts = []\n",
    "for i in range(0,len(dfs)):\n",
    "    spearmanDicts.append(getRankDict(dfs[0],dfs[i],intersection=False))\n",
    "# print(rankDicts)\n",
    "# baseIndex = np.where(dists == 0)[0][0]\n",
    "# zeroPos = np.where(dists == 0)[0]\n",
    "# print(zeroPos)\n",
    "# base = spearmanDicts[0]\n",
    "move = spearmanDicts[0:]"
   ]
  },
  {
   "cell_type": "code",
   "execution_count": 164,
   "metadata": {},
   "outputs": [],
   "source": [
    "def getSpearmans(dict1,dict2):\n",
    "    intersection = set(dict1.keys()) & set(dict2.keys())\n",
    "    result = []\n",
    "    for k in intersection:\n",
    "        result.append((dict1[k],dict2[k]))\n",
    "    result = np.array(result)\n",
    "    resValue = scipy.stats.spearmanr(result)[0]\n",
    "    return resValue"
   ]
  },
  {
   "cell_type": "code",
   "execution_count": 165,
   "metadata": {},
   "outputs": [],
   "source": [
    "def  getJacard(dict1,dict2):\n",
    "    set1 = set(dict1.keys())\n",
    "    set2 = set(dict2.keys())\n",
    "    print(len(set1 & set2),len(set1),len(set2))\n",
    "    jacard = len(set1 & set2) / len(set1 | set2)\n",
    "    return jacard"
   ]
  },
  {
   "cell_type": "code",
   "execution_count": 166,
   "metadata": {},
   "outputs": [
    {
     "name": "stdout",
     "output_type": "stream",
     "text": [
      "86 86 114\n",
      "85 85 114\n",
      "84 84 114\n",
      "81 81 114\n",
      "74 74 114\n",
      "72 72 114\n",
      "69 69 114\n",
      "66 66 114\n",
      "69 69 114\n",
      "76 76 114\n",
      "74 74 114\n",
      "77 77 114\n",
      "77 77 114\n",
      "75 75 114\n",
      "76 76 114\n",
      "61 61 114\n",
      "70 70 114\n",
      "66 66 114\n",
      "69 69 114\n",
      "72 72 114\n"
     ]
    }
   ],
   "source": [
    "spearmans = []\n",
    "jacards = []\n",
    "Y = []\n",
    "for i in range(len(move)):\n",
    "    if dists[i] != 0:\n",
    "        baseIndex = np.where(dists[:i] == 0)[0][-1]\n",
    "        base = move[baseIndex]\n",
    "        df = move[i]\n",
    "        spearmans.append(getSpearmans(df,base))\n",
    "        jacards.append(getJacard(df,base))\n",
    "        Y.append(dists[i])\n",
    "    \n",
    "modelInput = np.array([spearmans,jacards])\n",
    "Y = np.array(Y)"
   ]
  },
  {
   "cell_type": "code",
   "execution_count": 167,
   "metadata": {},
   "outputs": [],
   "source": [
    "labels = Y[:,np.newaxis]\n",
    "X = modelInput.swapaxes(1,0)"
   ]
  },
  {
   "cell_type": "code",
   "execution_count": 168,
   "metadata": {},
   "outputs": [],
   "source": [
    "model = LinearRegression()"
   ]
  },
  {
   "cell_type": "code",
   "execution_count": 169,
   "metadata": {},
   "outputs": [],
   "source": [
    "cv = cross_validate(model,X,labels,cv=10,scoring='neg_mean_squared_error', return_train_score = True)"
   ]
  },
  {
   "cell_type": "code",
   "execution_count": 170,
   "metadata": {},
   "outputs": [
    {
     "data": {
      "text/plain": [
       "{'fit_time': array([0.00099635, 0.        , 0.0009973 , 0.00096989, 0.00299788,\n",
       "        0.0009954 , 0.        , 0.00099802, 0.00099659, 0.        ]),\n",
       " 'score_time': array([0.        , 0.00099778, 0.        , 0.        , 0.        ,\n",
       "        0.        , 0.        , 0.        , 0.        , 0.        ]),\n",
       " 'test_score': array([-11.36700635, -45.29998764, -34.81013314, -66.11176357,\n",
       "        -10.67873036,  -6.96388013, -27.79732125, -24.15177622,\n",
       "        -17.06230773, -75.77093237]),\n",
       " 'train_score': array([-20.22446154, -18.19744637, -17.48207181, -15.05360848,\n",
       "        -19.80954025, -20.21243423, -18.2340725 , -18.43831943,\n",
       "        -19.35331756, -15.72477655])}"
      ]
     },
     "execution_count": 170,
     "metadata": {},
     "output_type": "execute_result"
    }
   ],
   "source": [
    "cv"
   ]
  },
  {
   "cell_type": "code",
   "execution_count": 188,
   "metadata": {},
   "outputs": [
    {
     "data": {
      "text/plain": [
       "<matplotlib.axes._subplots.AxesSubplot at 0x168ac7370f0>"
      ]
     },
     "execution_count": 188,
     "metadata": {},
     "output_type": "execute_result"
    },
    {
     "data": {
      "image/png": "[encoded data removed]",
      "text/plain": [
       "<Figure size 432x288 with 1 Axes>"
      ]
     },
     "metadata": {},
     "output_type": "display_data"
    }
   ],
   "source": [
    "sns.regplot(labels[:,0],X[:,1])"
   ]
  },
  {
   "cell_type": "code",
   "execution_count": 187,
   "metadata": {},
   "outputs": [
    {
     "name": "stdout",
     "output_type": "stream",
     "text": [
      "(array([2.32781786]), array([1.]))\n",
      "(array([4.36087473]), array([2.]))\n",
      "(array([6.72119406]), array([3.]))\n",
      "(array([7.60951032]), array([4.]))\n",
      "(array([10.23450242]), array([5.]))\n",
      "(array([11.28989569]), array([6.]))\n",
      "(array([13.8309941]), array([7.]))\n",
      "(array([14.17527246]), array([8.]))\n",
      "(array([12.39662468]), array([9.]))\n",
      "(array([7.23897399]), array([10.]))\n",
      "(array([10.91782179]), array([11.]))\n",
      "(array([8.52746118]), array([12.]))\n",
      "(array([8.64009476]), array([13.]))\n",
      "(array([9.16218121]), array([14.]))\n",
      "(array([8.59238957]), array([15.]))\n",
      "(array([16.82265792]), array([16.]))\n",
      "(array([12.60721854]), array([17.]))\n",
      "(array([15.86279311]), array([18.]))\n",
      "(array([16.0667484]), array([19.]))\n",
      "(array([12.61497322]), array([20.]))\n"
     ]
    }
   ],
   "source": [
    "model.fit(X,labels)\n",
    "for a in zip(model.predict(X),labels):\n",
    "    print(a)"
   ]
  },
  {
   "cell_type": "code",
   "execution_count": 173,
   "metadata": {},
   "outputs": [
    {
     "ename": "AttributeError",
     "evalue": "'LinearRegression' object has no attribute 'coef'",
     "output_type": "error",
     "traceback": [
      "\u001b[1;31m---------------------------------------------------------------------------\u001b[0m",
      "\u001b[1;31mAttributeError\u001b[0m                            Traceback (most recent call last)",
      "\u001b[1;32m<ipython-input-173-a451a9aeb5c2>\u001b[0m in \u001b[0;36m<module>\u001b[1;34m()\u001b[0m\n\u001b[1;32m----> 1\u001b[1;33m \u001b[0mmodel\u001b[0m\u001b[1;33m.\u001b[0m\u001b[0mcoef\u001b[0m\u001b[1;33m\u001b[0m\u001b[0m\n\u001b[0m",
      "\u001b[1;31mAttributeError\u001b[0m: 'LinearRegression' object has no attribute 'coef'"
     ]
    }
   ],
   "source": [
    "model.coef"
   ]
  },
  {
   "cell_type": "code",
   "execution_count": null,
   "metadata": {},
   "outputs": [],
   "source": []
  },
  {
   "cell_type": "code",
   "execution_count": null,
   "metadata": {},
   "outputs": [],
   "source": []
  },
  {
   "cell_type": "code",
   "execution_count": null,
   "metadata": {},
   "outputs": [],
   "source": []
  }
 ],
 "metadata": {
  "kernelspec": {
   "display_name": "Python 3",
   "language": "python",
   "name": "python3"
  },
  "language_info": {
   "codemirror_mode": {
    "name": "ipython",
    "version": 3
   },
   "file_extension": ".py",
   "mimetype": "text/x-python",
   "name": "python",
   "nbconvert_exporter": "python",
   "pygments_lexer": "ipython3",
   "version": "3.6.5"
  }
 },
 "nbformat": 4,
 "nbformat_minor": 2
}
