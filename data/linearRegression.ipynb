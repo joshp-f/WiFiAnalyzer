{
 "cells": [
  {
   "cell_type": "code",
   "execution_count": 1,
   "metadata": {},
   "outputs": [],
   "source": [
    "import pandas as pd\n",
    "import numpy as np\n",
    "from sklearn.linear_model import LinearRegression\n",
    "from sklearn.model_selection import cross_validate\n",
    "import scipy.stats\n",
    "import seaborn as sns"
   ]
  },
  {
   "cell_type": "code",
   "execution_count": 2,
   "metadata": {},
   "outputs": [],
   "source": [
    "df1 = pd.read_csv('logWithDistance2.txt',sep='|')"
   ]
  },
  {
   "cell_type": "code",
   "execution_count": 3,
   "metadata": {},
   "outputs": [],
   "source": [
    "def getProcessedDF(initialdf):\n",
    "    \n",
    "    splitpos = []\n",
    "    for index, row in initialdf.iterrows():\n",
    "       timestamp = row['Time Stamp']\n",
    "       if timestamp == 'Time Stamp':\n",
    "            splitpos.append(index)\n",
    "    dfs = np.split(initialdf, splitpos, axis=0)\n",
    "    \n",
    "    def deleteHead(df):\n",
    "        return df.iloc[1:]\n",
    "    def makeNumeric(df):\n",
    "        df.RSSI = df.RSSI.apply(float)\n",
    "        return df\n",
    "    def averageRSSI(df):\n",
    "        return df.groupby('BSSID', as_index=False).mean()\n",
    "    def sortByRSSI(df):\n",
    "        return df.sort_values('RSSI',ascending=False)\n",
    "    def getDist(df):\n",
    "        return float((df['dist'].iloc[0]))\n",
    "\n",
    "    dfs = list(map(deleteHead,dfs))\n",
    "    dists = np.array(list(map(getDist,dfs)))\n",
    "\n",
    "    dfs = list(map(makeNumeric,dfs))\n",
    "    dfs = list(map(averageRSSI,dfs))\n",
    "    dfs = list(map(sortByRSSI,dfs))\n",
    "    return dfs, dists # for single sample example\n",
    "\n",
    "\n",
    "\n"
   ]
  },
  {
   "cell_type": "code",
   "execution_count": 51,
   "metadata": {},
   "outputs": [],
   "source": [
    "def getRankDict(prev,df,intersection=False):\n",
    "        intersection = set(prev['BSSID']) & set(df['BSSID'])\n",
    "        rankdict = {}\n",
    "        counter = 1\n",
    "        for index in range(len(df)):\n",
    "            row = df.iloc[index]\n",
    "            if not intersection: rankdict[row['BSSID']] = index\n",
    "            else:\n",
    "                if row['BSSID'] in intersection:\n",
    "                    rankdict[row['BSSID']] = counter\n",
    "                    counter += 1\n",
    "        return rankdict"
   ]
  },
  {
   "cell_type": "code",
   "execution_count": 52,
   "metadata": {},
   "outputs": [
    {
     "name": "stdout",
     "output_type": "stream",
     "text": [
      "[{'08:cc:68:b5:8d:f5': 1, '08:cc:68:b5:8d:f4': 2, '08:cc:68:b5:8d:f1': 3, '08:cc:68:b5:8d:f0': 4, '08:cc:68:b5:86:82': 5, '08:cc:68:b5:86:85': 6, '08:cc:68:b5:86:84': 7, '08:cc:68:b5:86:80': 8, '08:cc:68:b5:86:81': 9, '64:f6:9d:89:56:72': 10, '64:f6:9d:8e:a4:81': 11, '00:22:6b:73:a9:fa': 12, '64:f6:9d:8e:a4:80': 13, '64:f6:9d:ad:dc:80': 14, '64:f6:9d:ad:dc:81': 15, 'f4:f2:6d:22:9d:00': 16, '9c:30:5b:63:c3:31': 17, 'f4:ec:38:b3:f4:94': 18, '6c:70:9f:e6:1a:a0': 19, '08:cc:68:b4:7e:e1': 20, '30:91:8f:b6:59:ab': 21, '08:cc:68:b4:84:95': 22, '08:cc:68:b4:8c:f5': 23, '08:cc:68:b5:86:8d': 24, 'a0:63:91:de:85:45': 25, '08:cc:68:b5:86:8e': 26, 'e0:55:3d:10:35:1a': 27, '04:62:73:ae:fd:32': 28, '08:cc:68:b4:84:9b': 29, 'a0:63:91:de:85:44': 30, '08:cc:68:b5:86:8f': 31, '08:cc:68:b5:86:8b': 32, '08:cc:68:b5:86:8a': 33, '08:cc:68:b4:84:9f': 34, '64:f6:9d:8e:a4:8e': 35, '00:22:6b:73:a9:fb': 36, 'bc:30:7e:07:ef:b2': 37, '08:cc:68:b4:84:9a': 38, '64:f6:9d:8e:a4:8f': 39, '90:72:40:12:39:bc': 40, '08:cc:68:b4:84:9e': 41, '08:cc:68:b4:bb:2b': 42, '08:cc:68:b4:bb:2a': 43, '08:cc:68:b5:9a:4f': 44, '08:cc:68:b4:bb:2f': 45, '08:cc:68:b4:8c:ff': 46, '08:cc:68:b4:7e:ee': 47, '08:cc:68:b5:9a:4a': 48, '08:cc:68:b4:7e:ef': 49, '08:cc:68:b5:8d:fe': 50, '08:cc:68:b5:8d:fb': 51, '08:cc:68:b4:7e:eb': 52, '08:cc:68:b4:7e:ea': 53}, {'08:cc:68:b5:8d:f0': 1, '08:cc:68:b5:86:80': 2, '08:cc:68:b5:8d:f1': 3, '08:cc:68:b5:86:84': 4, '08:cc:68:b5:8d:f5': 5, '08:cc:68:b5:8d:f4': 6, '08:cc:68:b5:86:82': 7, '08:cc:68:b5:86:81': 8, '64:f6:9d:89:56:72': 9, '00:22:6b:73:a9:fa': 10, '64:f6:9d:8e:a4:80': 11, 'f4:f2:6d:22:9d:00': 12, '64:f6:9d:8e:a4:81': 13, '64:f6:9d:ad:dc:80': 14, '64:f6:9d:ad:dc:81': 15, '6c:70:9f:e6:1a:a0': 16, '04:62:73:ae:fd:32': 17, '08:cc:68:b4:84:95': 18, 'a0:63:91:de:85:44': 19, '08:cc:68:b4:8c:f5': 20, 'a0:63:91:de:85:45': 21, '30:91:8f:b6:59:ab': 22, '64:f6:9d:8e:a4:8e': 23, '08:cc:68:b5:86:8b': 24, 'e0:55:3d:10:35:1a': 25, '08:cc:68:b5:86:8f': 26, '64:f6:9d:8e:a4:8f': 27, '08:cc:68:b5:86:8e': 28, 'f4:ec:38:b3:f4:94': 29, 'bc:30:7e:07:ef:b2': 30, '08:cc:68:b5:86:8a': 31, '00:22:6b:73:a9:fb': 32, '08:cc:68:b4:84:9b': 33, '08:cc:68:b4:7e:eb': 34, '08:cc:68:b4:7e:ea': 35, '08:cc:68:b4:84:9e': 36, '08:cc:68:b4:7e:ee': 37, '08:cc:68:b4:7e:ef': 38, '08:cc:68:b4:84:9a': 39, '08:cc:68:b4:bb:2a': 40, '08:cc:68:b4:bb:2f': 41, '08:cc:68:b4:84:9f': 42, '08:cc:68:b5:9a:4f': 43}, {'08:cc:68:b5:86:81': 1, '08:cc:68:b5:86:82': 2, '08:cc:68:b5:86:84': 3, '08:cc:68:b5:86:80': 4, '08:cc:68:b5:8d:f5': 5, '08:cc:68:b5:8d:f1': 6, '00:22:6b:73:a9:fa': 7, '64:f6:9d:8e:a4:81': 8, '64:f6:9d:8e:a4:80': 9, '08:cc:68:b5:8d:f4': 10, '64:f6:9d:89:56:72': 11, '08:cc:68:b5:8d:f0': 12, '6c:70:9f:e6:1a:a0': 13, '30:91:8f:b6:59:ab': 14, 'f4:ec:38:b3:f4:94': 15, '64:f6:9d:ad:dc:80': 16, '08:cc:68:b4:8c:f5': 17, '64:f6:9d:ad:dc:81': 18, 'a0:63:91:de:85:45': 19, '04:62:73:ae:fd:32': 20, 'e0:55:3d:10:35:1a': 21, 'f4:f2:6d:22:9d:00': 22, 'bc:30:7e:07:ef:b2': 23, '08:cc:68:b4:84:95': 24, '00:22:6b:73:a9:fb': 25, '9c:30:5b:63:c3:31': 26, '64:f6:9d:8e:a4:8f': 27, '64:f6:9d:8e:a4:8e': 28, '08:cc:68:b5:86:8f': 29, '08:cc:68:b5:86:8e': 30, '08:cc:68:b5:86:8b': 31, '08:cc:68:b5:86:8a': 32, 'a0:63:91:de:85:44': 33, '08:cc:68:b4:84:9a': 34, '08:cc:68:b4:84:9e': 35, '90:72:40:12:39:bc': 36, '08:cc:68:b4:7e:ee': 37, '08:cc:68:b4:7e:ea': 38, '08:cc:68:b4:7e:eb': 39, '08:cc:68:b4:7e:ef': 40, '08:cc:68:b5:9a:4f': 41}, {'08:cc:68:b5:86:85': 1, '08:cc:68:b5:86:84': 2, '08:cc:68:b5:86:81': 3, '08:cc:68:b5:86:80': 4, '08:cc:68:b5:86:82': 5, '00:22:6b:73:a9:fa': 6, '64:f6:9d:8e:a4:81': 7, '64:f6:9d:8e:a4:80': 8, '08:cc:68:b5:8d:f0': 9, '64:f6:9d:89:56:72': 10, '08:cc:68:b5:8d:f5': 11, '08:cc:68:b5:8d:f1': 12, '6c:70:9f:e6:1a:a0': 13, 'f4:ec:38:b3:f4:94': 14, 'f4:f2:6d:22:9d:00': 15, '64:f6:9d:ad:dc:80': 16, '64:f6:9d:ad:dc:81': 17, '04:62:73:ae:fd:32': 18, 'e0:55:3d:10:35:1a': 19, '30:91:8f:b6:59:ab': 20, '08:cc:68:b4:8c:f5': 21, '64:f6:9d:8e:a4:8f': 22, '9c:30:5b:63:c3:31': 23, '64:f6:9d:8e:a4:8e': 24, 'a0:63:91:de:85:45': 25, 'a0:63:91:de:85:44': 26, '08:cc:68:b5:86:8f': 27, '08:cc:68:b5:86:8e': 28, '08:cc:68:b5:86:8b': 29, 'bc:30:7e:07:ef:b2': 30, '00:22:6b:73:a9:fb': 31, '90:72:40:12:39:bc': 32, '08:cc:68:b4:84:9a': 33, '08:cc:68:b4:7e:ee': 34, '08:cc:68:b5:86:8d': 35, '08:cc:68:b5:9a:4f': 36, '08:cc:68:b5:9a:4a': 37, '08:cc:68:b4:84:9b': 38, '08:cc:68:b4:84:9f': 39, '08:cc:68:b4:7e:ef': 40, '08:cc:68:b4:7e:ea': 41, '08:cc:68:b4:7e:eb': 42, '08:cc:68:b4:84:9e': 43}, {'08:cc:68:b5:86:84': 1, '08:cc:68:b5:86:81': 2, '08:cc:68:b5:86:80': 3, '08:cc:68:b5:86:85': 4, '08:cc:68:b5:86:82': 5, '64:f6:9d:8e:a4:81': 6, '64:f6:9d:8e:a4:80': 7, '64:f6:9d:89:56:72': 8, '00:22:6b:73:a9:fa': 9, '08:cc:68:b5:8d:f4': 10, '6c:70:9f:e6:1a:a0': 11, '08:cc:68:b5:8d:f5': 12, '08:cc:68:b5:8d:f1': 13, 'f4:ec:38:b3:f4:94': 14, '64:f6:9d:ad:dc:80': 15, 'e0:55:3d:10:35:1a': 16, 'a0:63:91:de:85:45': 17, '30:91:8f:b6:59:ab': 18, 'f4:f2:6d:22:9d:00': 19, '64:f6:9d:ad:dc:81': 20, '64:f6:9d:8e:a4:8f': 21, '64:f6:9d:8e:a4:8e': 22, '08:cc:68:b5:86:8d': 23, 'a0:63:91:de:85:44': 24, '08:cc:68:b5:86:8e': 25, '08:cc:68:b4:8c:f5': 26, '08:cc:68:b5:86:8f': 27, '08:cc:68:b5:86:8b': 28, '08:cc:68:b5:86:8a': 29, '00:22:6b:73:a9:fb': 30, 'bc:30:7e:07:ef:b2': 31, '90:72:40:12:39:bc': 32, '9c:30:5b:63:c3:31': 33, '08:cc:68:b4:bb:2f': 34, '08:cc:68:b5:9a:4a': 35, '08:cc:68:b5:9a:4f': 36, '08:cc:68:b4:bb:2a': 37, '08:cc:68:b4:7e:ea': 38, '08:cc:68:b4:7e:ee': 39, '08:cc:68:b4:84:9b': 40, '08:cc:68:b4:8c:ff': 41, '08:cc:68:b4:84:9e': 42, '08:cc:68:b4:84:9f': 43, '08:cc:68:b4:7e:eb': 44, '08:cc:68:b4:bb:2b': 45, '08:cc:68:b4:7e:ef': 46, '08:cc:68:b4:84:9a': 47}, {'08:cc:68:b5:86:85': 1, '08:cc:68:b5:86:84': 2, '08:cc:68:b5:86:80': 3, '08:cc:68:b5:86:81': 4, '64:f6:9d:89:56:72': 5, '00:22:6b:73:a9:fa': 6, '64:f6:9d:8e:a4:80': 7, '64:f6:9d:8e:a4:81': 8, '6c:70:9f:e6:1a:a0': 9, 'a0:63:91:de:85:45': 10, '64:f6:9d:ad:dc:81': 11, 'f4:ec:38:b3:f4:94': 12, '30:91:8f:b6:59:ab': 13, '08:cc:68:b5:86:8b': 14, '08:cc:68:b5:86:8f': 15, 'bc:30:7e:07:ef:b2': 16, '64:f6:9d:8e:a4:8e': 17, '08:cc:68:b5:86:8a': 18, 'a0:63:91:de:85:44': 19, '08:cc:68:b4:84:9a': 20, '00:22:6b:73:a9:fb': 21, '64:f6:9d:8e:a4:8f': 22, '9c:30:5b:63:c3:31': 23, '08:cc:68:b4:7e:ea': 24, '08:cc:68:b4:7e:ef': 25, '08:cc:68:b4:8c:ff': 26, '08:cc:68:b4:7e:eb': 27, '08:cc:68:b4:84:9f': 28, '08:cc:68:b4:7e:ee': 29, '90:72:40:12:39:bc': 30, '08:cc:68:b4:bb:2b': 31}, {'08:cc:68:b5:86:80': 1, '08:cc:68:b5:86:81': 2, '08:cc:68:b5:86:82': 3, '08:cc:68:b5:86:84': 4, '08:cc:68:b5:86:85': 5, '64:f6:9d:89:56:72': 6, '64:f6:9d:8e:a4:80': 7, '00:22:6b:73:a9:fa': 8, '64:f6:9d:8e:a4:81': 9, '6c:70:9f:e6:1a:a0': 10, '08:cc:68:b5:8d:f0': 11, '08:cc:68:b5:8d:f4': 12, 'f4:ec:38:b3:f4:94': 13, '64:f6:9d:ad:dc:80': 14, '64:f6:9d:ad:dc:81': 15, '30:91:8f:b6:59:ab': 16, 'a0:63:91:de:85:45': 17, '9c:30:5b:63:c3:31': 18, '64:f6:9d:8e:a4:8e': 19, 'a0:63:91:de:85:44': 20, '08:cc:68:b5:86:8d': 21, '64:f6:9d:8e:a4:8f': 22, '08:cc:68:b4:84:9a': 23, '08:cc:68:b5:86:8b': 24, '00:22:6b:73:a9:fb': 25, '08:cc:68:b5:86:8a': 26, 'f4:f2:6d:22:9d:00': 27, '08:cc:68:b5:86:8e': 28, '08:cc:68:b5:86:8f': 29, '08:cc:68:b4:bb:2f': 30, '08:cc:68:b4:bb:2b': 31, '08:cc:68:b4:7e:ea': 32, '08:cc:68:b4:7e:ef': 33, '08:cc:68:b5:9a:4f': 34, '08:cc:68:b4:8c:ff': 35, '08:cc:68:b4:7e:eb': 36, '90:72:40:12:39:bc': 37, '08:cc:68:b4:84:9f': 38, '08:cc:68:b4:84:9e': 39}, {'08:cc:68:b5:86:81': 1, '08:cc:68:b5:86:80': 2, '08:cc:68:b5:86:84': 3, '08:cc:68:b5:86:82': 4, '64:f6:9d:8e:a4:80': 5, '08:cc:68:b5:86:85': 6, '64:f6:9d:89:56:72': 7, '00:22:6b:73:a9:fa': 8, '64:f6:9d:8e:a4:81': 9, '6c:70:9f:e6:1a:a0': 10, '08:cc:68:b5:8d:f4': 11, 'f4:ec:38:b3:f4:94': 12, '64:f6:9d:ad:dc:80': 13, '30:91:8f:b6:59:ab': 14, '64:f6:9d:ad:dc:81': 15, 'a0:63:91:de:85:45': 16, 'a0:63:91:de:85:44': 17, '00:22:6b:73:a9:fb': 18, '64:f6:9d:8e:a4:8e': 19, '08:cc:68:b5:86:8a': 20, '08:cc:68:b5:86:8e': 21, '90:72:40:12:39:bc': 22, '08:cc:68:b5:86:8f': 23, 'f4:f2:6d:22:9d:00': 24, '08:cc:68:b5:86:8b': 25, '08:cc:68:b4:bb:2b': 26, '08:cc:68:b4:84:9a': 27, '64:f6:9d:8e:a4:8f': 28, '08:cc:68:b4:bb:2f': 29, '08:cc:68:b4:bb:2a': 30, '08:cc:68:b5:9a:4a': 31, '08:cc:68:b5:9a:4f': 32, '08:cc:68:b4:84:9e': 33, '08:cc:68:b4:7e:eb': 34, '08:cc:68:b4:7e:ee': 35}, {'08:cc:68:b5:86:81': 1, '08:cc:68:b5:86:80': 2, '64:f6:9d:8e:a4:80': 3, '08:cc:68:b5:86:84': 4, '08:cc:68:b5:86:85': 5, '64:f6:9d:89:56:72': 6, '64:f6:9d:8e:a4:81': 7, '08:cc:68:b5:86:82': 8, '6c:70:9f:e6:1a:a0': 9, 'f4:ec:38:b3:f4:94': 10, '00:22:6b:73:a9:fa': 11, '64:f6:9d:ad:dc:80': 12, '30:91:8f:b6:59:ab': 13, '04:62:73:ae:fd:32': 14, 'a0:63:91:de:85:45': 15, '64:f6:9d:ad:dc:81': 16, 'a0:63:91:de:85:44': 17, '08:cc:68:b5:86:8a': 18, 'f4:f2:6d:22:9d:00': 19, '64:f6:9d:8e:a4:8e': 20, '08:cc:68:b5:86:8b': 21, '08:cc:68:b5:86:8e': 22, '08:cc:68:b5:86:8f': 23, '90:72:40:12:39:bc': 24, '08:cc:68:b5:86:8d': 25, '08:cc:68:b4:bb:2b': 26, '64:f6:9d:8e:a4:8f': 27, '08:cc:68:b4:84:9a': 28, '9c:30:5b:63:c3:31': 29, '08:cc:68:b4:bb:2f': 30, '00:22:6b:73:a9:fb': 31, '08:cc:68:b4:bb:2a': 32, '08:cc:68:b5:9a:4a': 33, '08:cc:68:b5:9a:4f': 34, '08:cc:68:b4:84:9e': 35, '08:cc:68:b4:7e:ee': 36, '08:cc:68:b4:7e:eb': 37, '08:cc:68:b4:7e:ea': 38}, {'64:f6:9d:8e:a4:80': 1, '64:f6:9d:8e:a4:81': 2, '08:cc:68:b5:86:81': 3, '08:cc:68:b5:86:84': 4, '64:f6:9d:89:56:72': 5, '08:cc:68:b5:86:80': 6, 'f4:ec:38:b3:f4:94': 7, '08:cc:68:b5:86:82': 8, '00:22:6b:73:a9:fa': 9, '6c:70:9f:e6:1a:a0': 10, 'bc:30:7e:07:ef:b2': 11, '64:f6:9d:ad:dc:80': 12, '9c:30:5b:63:c3:31': 13, '30:91:8f:b6:59:ab': 14, '08:cc:68:b5:86:8b': 15, '08:cc:68:b5:86:8f': 16, 'f4:f2:6d:22:9d:00': 17, '04:62:73:ae:fd:32': 18, 'a0:63:91:de:85:45': 19, '08:cc:68:b5:86:8a': 20, '90:72:40:12:39:bc': 21, '64:f6:9d:ad:dc:81': 22, '08:cc:68:b5:86:8e': 23, '08:cc:68:b4:bb:2a': 24, '64:f6:9d:8e:a4:8f': 25, '08:cc:68:b4:84:9e': 26, '64:f6:9d:8e:a4:8e': 27, 'a0:63:91:de:85:44': 28, '08:cc:68:b4:bb:2f': 29, '00:22:6b:73:a9:fb': 30, '08:cc:68:b4:bb:2b': 31, '08:cc:68:b4:7e:ee': 32, '08:cc:68:b4:7e:ea': 33, '08:cc:68:b4:7e:eb': 34}, {'08:cc:68:b5:86:81': 1, '08:cc:68:b5:86:80': 2, '08:cc:68:b5:86:84': 3, '08:cc:68:b5:86:85': 4, '00:22:6b:73:a9:fa': 5, '64:f6:9d:8e:a4:81': 6, '64:f6:9d:8e:a4:80': 7, 'f4:ec:38:b3:f4:94': 8, '08:cc:68:b5:8d:f4': 9, '6c:70:9f:e6:1a:a0': 10, '64:f6:9d:89:56:72': 11, '9c:30:5b:63:c3:31': 12, 'a0:63:91:de:85:45': 13, '30:91:8f:b6:59:ab': 14, 'bc:30:7e:07:ef:b2': 15, '64:f6:9d:ad:dc:80': 16, '08:cc:68:b4:8c:f5': 17, '64:f6:9d:ad:dc:81': 18, 'a0:63:91:de:85:44': 19, '08:cc:68:b5:86:8a': 20, '64:f6:9d:8e:a4:8f': 21, '08:cc:68:b5:86:8f': 22, '08:cc:68:b5:86:8e': 23, '00:22:6b:73:a9:fb': 24, '64:f6:9d:8e:a4:8e': 25, '08:cc:68:b5:86:8d': 26, '08:cc:68:b4:84:9f': 27, '08:cc:68:b5:86:8b': 28, '08:cc:68:b4:bb:2b': 29, '08:cc:68:b4:84:9a': 30, '08:cc:68:b5:9a:4a': 31, '08:cc:68:b4:7e:ea': 32, '08:cc:68:b4:7e:ee': 33, '08:cc:68:b5:9a:4f': 34}, {'08:cc:68:b5:86:81': 1, '08:cc:68:b5:86:84': 2, '08:cc:68:b5:86:80': 3, '08:cc:68:b5:86:82': 4, '00:22:6b:73:a9:fa': 5, '08:cc:68:b5:86:85': 6, 'f4:ec:38:b3:f4:94': 7, '64:f6:9d:8e:a4:80': 8, '64:f6:9d:8e:a4:81': 9, '64:f6:9d:89:56:72': 10, '6c:70:9f:e6:1a:a0': 11, '30:91:8f:b6:59:ab': 12, '64:f6:9d:ad:dc:81': 13, '64:f6:9d:ad:dc:80': 14, '08:cc:68:b5:86:8a': 15, 'f4:f2:6d:22:9d:00': 16, '08:cc:68:b5:86:8b': 17, '08:cc:68:b5:86:8e': 18, '08:cc:68:b5:86:8f': 19, 'a0:63:91:de:85:44': 20, '64:f6:9d:8e:a4:8f': 21, 'a0:63:91:de:85:45': 22, '08:cc:68:b5:86:8d': 23, '64:f6:9d:8e:a4:8e': 24, '00:22:6b:73:a9:fb': 25, '9c:30:5b:63:c3:31': 26, '08:cc:68:b4:bb:2f': 27, '08:cc:68:b5:9a:4a': 28, '08:cc:68:b4:bb:2a': 29, '08:cc:68:b5:9a:4f': 30, '08:cc:68:b4:7e:ea': 31}, {'08:cc:68:b5:86:81': 1, '08:cc:68:b5:86:80': 2, '08:cc:68:b5:86:84': 3, '08:cc:68:b5:86:85': 4, '08:cc:68:b5:86:82': 5, '00:22:6b:73:a9:fa': 6, '64:f6:9d:8e:a4:80': 7, '64:f6:9d:89:56:72': 8, '64:f6:9d:8e:a4:81': 9, 'f4:ec:38:b3:f4:94': 10, '64:f6:9d:ad:dc:81': 11, '08:cc:68:b5:86:8d': 12, 'a0:63:91:de:85:45': 13, '08:cc:68:b5:86:8e': 14, '30:91:8f:b6:59:ab': 15, '08:cc:68:b5:86:8f': 16, 'a0:63:91:de:85:44': 17, '08:cc:68:b5:86:8b': 18, '6c:70:9f:e6:1a:a0': 19, '08:cc:68:b5:86:8a': 20, 'bc:30:7e:07:ef:b2': 21, '00:22:6b:73:a9:fb': 22, '64:f6:9d:8e:a4:8e': 23, '08:cc:68:b4:84:9b': 24, '9c:30:5b:63:c3:31': 25, 'f4:f2:6d:22:9d:00': 26, '08:cc:68:b4:bb:2f': 27, '08:cc:68:b4:bb:2a': 28, '08:cc:68:b4:7e:ea': 29, '08:cc:68:b4:8c:ff': 30}, {'08:cc:68:b5:86:80': 1, '08:cc:68:b5:86:81': 2, '08:cc:68:b5:86:84': 3, '08:cc:68:b5:86:82': 4, '64:f6:9d:8e:a4:81': 5, '64:f6:9d:8e:a4:80': 6, '64:f6:9d:89:56:72': 7, 'f4:ec:38:b3:f4:94': 8, '00:22:6b:73:a9:fa': 9, '08:cc:68:b5:86:8a': 10, '08:cc:68:b5:86:8d': 11, '08:cc:68:b5:86:8f': 12, 'a0:63:91:de:85:45': 13, 'bc:30:7e:07:ef:b2': 14, '08:cc:68:b5:86:8b': 15, '08:cc:68:b5:86:8e': 16, 'a0:63:91:de:85:44': 17, '30:91:8f:b6:59:ab': 18, '08:cc:68:b4:bb:2f': 19, '64:f6:9d:8e:a4:8e': 20, 'f4:f2:6d:22:9d:00': 21, '08:cc:68:b4:bb:2b': 22, '9c:30:5b:63:c3:31': 23, '00:22:6b:73:a9:fb': 24, '08:cc:68:b4:bb:2a': 25, '08:cc:68:b4:84:9e': 26}, {'08:cc:68:b5:86:82': 1, '08:cc:68:b5:86:84': 2, '08:cc:68:b5:86:81': 3, '08:cc:68:b5:86:85': 4, '08:cc:68:b5:86:80': 5, '64:f6:9d:8e:a4:81': 6, '64:f6:9d:8e:a4:80': 7, '30:91:8f:b6:59:ab': 8, 'f4:ec:38:b3:f4:94': 9, '64:f6:9d:89:56:72': 10, '00:22:6b:73:a9:fa': 11, '08:cc:68:b5:86:8a': 12, 'a0:63:91:de:85:44': 13, '6c:70:9f:e6:1a:a0': 14, 'f4:f2:6d:22:9d:00': 15, '08:cc:68:b5:86:8f': 16, '08:cc:68:b5:86:8b': 17, 'a0:63:91:de:85:45': 18, '08:cc:68:b5:86:8e': 19, '64:f6:9d:8e:a4:8f': 20, '64:f6:9d:8e:a4:8e': 21, 'bc:30:7e:07:ef:b2': 22, '00:22:6b:73:a9:fb': 23, '08:cc:68:b4:bb:2f': 24, '08:cc:68:b4:bb:2b': 25, '08:cc:68:b4:bb:2a': 26}, {'08:cc:68:b5:86:82': 1, '08:cc:68:b5:86:84': 2, '08:cc:68:b5:86:80': 3, '08:cc:68:b5:86:81': 4, '08:cc:68:b5:86:85': 5, 'f4:ec:38:b3:f4:94': 6, '64:f6:9d:89:56:72': 7, '30:91:8f:b6:59:ab': 8, '64:f6:9d:8e:a4:81': 9, '00:22:6b:73:a9:fa': 10, '64:f6:9d:8e:a4:80': 11, '6c:70:9f:e6:1a:a0': 12, '08:cc:68:b5:86:8f': 13, '08:cc:68:b5:86:8a': 14, '08:cc:68:b5:86:8b': 15, '08:cc:68:b5:86:8e': 16, '08:cc:68:b4:bb:2b': 17, '08:cc:68:b4:bb:2f': 18, 'f4:f2:6d:22:9d:00': 19, 'bc:30:7e:07:ef:b2': 20, 'a0:63:91:de:85:44': 21, 'a0:63:91:de:85:45': 22, '00:22:6b:73:a9:fb': 23, '64:f6:9d:8e:a4:8e': 24, '08:cc:68:b4:84:9a': 25, '08:cc:68:b4:84:9f': 26, '08:cc:68:b4:84:9b': 27, '08:cc:68:b4:bb:2a': 28}, {'08:cc:68:b5:86:84': 1, '08:cc:68:b5:86:81': 2, '08:cc:68:b5:86:80': 3, '08:cc:68:b5:86:85': 4, '64:f6:9d:89:56:72': 5, '64:f6:9d:8e:a4:80': 6, '64:f6:9d:8e:a4:81': 7, 'f4:ec:38:b3:f4:94': 8, '00:22:6b:73:a9:fa': 9, '30:91:8f:b6:59:ab': 10, '08:cc:68:b5:86:8b': 11, 'a0:63:91:de:85:44': 12, '90:72:40:12:39:bc': 13, '08:cc:68:b5:86:8d': 14, '08:cc:68:b5:86:8e': 15, '64:f6:9d:8e:a4:8e': 16, 'bc:30:7e:07:ef:b2': 17, 'f4:f2:6d:22:9d:00': 18, 'a0:63:91:de:85:45': 19, '64:f6:9d:8e:a4:8f': 20, '08:cc:68:b5:86:8a': 21, '08:cc:68:b4:bb:2f': 22, '08:cc:68:b4:bb:2b': 23, '08:cc:68:b4:84:9a': 24, '00:22:6b:73:a9:fb': 25}, {'08:cc:68:b5:86:81': 1, '08:cc:68:b5:86:85': 2, '08:cc:68:b5:86:84': 3, '08:cc:68:b5:86:80': 4, '00:22:6b:73:a9:fa': 5, '64:f6:9d:8e:a4:81': 6, '64:f6:9d:8e:a4:80': 7, '64:f6:9d:89:56:72': 8, 'f4:ec:38:b3:f4:94': 9, '30:91:8f:b6:59:ab': 10, 'bc:30:7e:07:ef:b2': 11, '90:72:40:12:39:bc': 12, '08:cc:68:b5:86:8e': 13, '08:cc:68:b5:86:8b': 14, '6c:70:9f:e6:1a:a0': 15, '64:f6:9d:8e:a4:8e': 16, 'a0:63:91:de:85:45': 17, '08:cc:68:b5:86:8d': 18, 'a0:63:91:de:85:44': 19, '64:f6:9d:8e:a4:8f': 20, '9c:30:5b:63:c3:31': 21, '08:cc:68:b5:86:8a': 22}, {'08:cc:68:b5:86:85': 1, '08:cc:68:b5:86:81': 2, '08:cc:68:b5:86:80': 3, '08:cc:68:b5:86:84': 4, '08:cc:68:b5:86:82': 5, '64:f6:9d:8e:a4:81': 6, '64:f6:9d:8e:a4:80': 7, 'f4:ec:38:b3:f4:94': 8, '64:f6:9d:89:56:72': 9, 'f4:f2:6d:22:9d:00': 10, '00:22:6b:73:a9:fa': 11, '30:91:8f:b6:59:ab': 12, 'a0:63:91:de:85:45': 13, '9c:30:5b:63:c3:31': 14, '08:cc:68:b5:86:8d': 15, '08:cc:68:b5:86:8e': 16, '90:72:40:12:39:bc': 17, '64:f6:9d:8e:a4:8e': 18, '08:cc:68:b4:bb:2f': 19, '6c:70:9f:e6:1a:a0': 20, '08:cc:68:b4:bb:2b': 21, '08:cc:68:b4:bb:2a': 22, '64:f6:9d:8e:a4:8f': 23, '08:cc:68:b5:86:8a': 24, '08:cc:68:b4:84:9e': 25, 'a0:63:91:de:85:44': 26}, {'08:cc:68:b5:86:84': 1, '08:cc:68:b5:86:81': 2, '08:cc:68:b5:86:80': 3, '08:cc:68:b5:86:82': 4, '64:f6:9d:8e:a4:81': 5, 'f4:ec:38:b3:f4:94': 6, '00:22:6b:73:a9:fa': 7, '64:f6:9d:89:56:72': 8, '64:f6:9d:ad:dc:81': 9, '30:91:8f:b6:59:ab': 10, '64:f6:9d:ad:dc:80': 11, 'f4:f2:6d:22:9d:00': 12, '90:72:40:12:39:bc': 13, 'a0:63:91:de:85:45': 14, '9c:30:5b:63:c3:31': 15, '6c:70:9f:e6:1a:a0': 16, '08:cc:68:b5:86:8e': 17, '64:f6:9d:8e:a4:8e': 18, '08:cc:68:b4:bb:2b': 19, '08:cc:68:b4:bb:2f': 20, '08:cc:68:b5:86:8b': 21, '08:cc:68:b5:86:8d': 22, '08:cc:68:b4:bb:2a': 23, '08:cc:68:b4:84:9e': 24, '08:cc:68:b5:86:8f': 25}, {'08:cc:68:b5:86:81': 1, '08:cc:68:b5:86:85': 2, '08:cc:68:b5:86:82': 3, '08:cc:68:b5:86:84': 4, '08:cc:68:b5:86:80': 5, 'f4:ec:38:b3:f4:94': 6, '64:f6:9d:8e:a4:80': 7, '64:f6:9d:8e:a4:81': 8, '30:91:8f:b6:59:ab': 9, '00:22:6b:73:a9:fa': 10, '64:f6:9d:89:56:72': 11, '64:f6:9d:ad:dc:80': 12, '08:cc:68:b4:8c:f5': 13, 'a0:63:91:de:85:45': 14, '64:f6:9d:ad:dc:81': 15, 'bc:30:7e:07:ef:b2': 16, '90:72:40:12:39:bc': 17, '08:cc:68:b4:bb:2b': 18, '08:cc:68:b4:bb:2a': 19, 'a0:63:91:de:85:44': 20, '08:cc:68:b4:84:9f': 21, '64:f6:9d:8e:a4:8f': 22, '08:cc:68:b5:86:8b': 23, '08:cc:68:b4:84:9b': 24, '64:f6:9d:8e:a4:8e': 25, '08:cc:68:b5:86:8f': 26, '08:cc:68:b5:86:8d': 27}, {'08:cc:68:b5:86:81': 1, '08:cc:68:b5:86:84': 2, '08:cc:68:b5:86:82': 3, '08:cc:68:b5:86:80': 4, '64:f6:9d:8e:a4:80': 5, 'f4:ec:38:b3:f4:94': 6, '64:f6:9d:8e:a4:81': 7, '64:f6:9d:89:56:72': 8, '00:22:6b:73:a9:fa': 9, '30:91:8f:b6:59:ab': 10, '08:cc:68:b4:8c:f5': 11, 'f4:f2:6d:22:9d:00': 12, '64:f6:9d:ad:dc:81': 13, '6c:70:9f:e6:1a:a0': 14, 'a0:63:91:de:85:44': 15, '9c:30:5b:63:c3:31': 16, '64:f6:9d:8e:a4:8e': 17, 'a0:63:91:de:85:45': 18, '08:cc:68:b4:bb:2b': 19, '08:cc:68:b4:84:9a': 20, '08:cc:68:b4:84:9f': 21, '08:cc:68:b4:bb:2a': 22, '08:cc:68:b4:bb:2f': 23, '08:cc:68:b4:84:9b': 24, '00:22:6b:73:a9:fb': 25, '08:cc:68:b4:84:9e': 26}, {'08:cc:68:b5:86:81': 1, '64:f6:9d:8e:a4:81': 2, '08:cc:68:b5:86:84': 3, '08:cc:68:b5:86:80': 4, '64:f6:9d:8e:a4:80': 5, '08:cc:68:b5:86:85': 6, 'f4:ec:38:b3:f4:94': 7, '64:f6:9d:89:56:72': 8, '30:91:8f:b6:59:ab': 9, 'bc:30:7e:07:ef:b2': 10, '00:22:6b:73:a9:fa': 11, 'a0:63:91:de:85:45': 12, '64:f6:9d:ad:dc:80': 13, '6c:70:9f:e6:1a:a0': 14, 'f4:f2:6d:22:9d:00': 15, 'a0:63:91:de:85:44': 16, '64:f6:9d:8e:a4:8e': 17, '08:cc:68:b4:bb:2b': 18, '64:f6:9d:8e:a4:8f': 19, '08:cc:68:b4:bb:2f': 20, '08:cc:68:b4:bb:2a': 21, '08:cc:68:b4:84:9a': 22, '00:22:6b:73:a9:fb': 23, '08:cc:68:b4:84:9e': 24}, {'64:f6:9d:8e:a4:80': 1, '64:f6:9d:8e:a4:81': 2, '08:cc:68:b5:86:81': 3, '08:cc:68:b5:86:80': 4, '08:cc:68:b5:86:85': 5, '08:cc:68:b5:86:82': 6, 'f4:ec:38:b3:f4:94': 7, '08:cc:68:b5:86:84': 8, '00:22:6b:73:a9:fa': 9, '64:f6:9d:89:56:72': 10, '30:91:8f:b6:59:ab': 11, 'bc:30:7e:07:ef:b2': 12, '64:f6:9d:ad:dc:81': 13, 'f4:f2:6d:22:9d:00': 14, '08:cc:68:b4:bb:2a': 15, '08:cc:68:b4:bb:2b': 16, 'a0:63:91:de:85:45': 17, '08:cc:68:b4:bb:2f': 18, '64:f6:9d:8e:a4:8e': 19, '08:cc:68:b5:9a:4f': 20, '6c:70:9f:e6:1a:a0': 21, '64:f6:9d:8e:a4:8f': 22, '08:cc:68:b4:84:9e': 23, '08:cc:68:b5:9a:4a': 24, '08:cc:68:b4:84:9a': 25, '08:cc:68:b4:8c:ff': 26, '00:22:6b:73:a9:fb': 27}, {'08:cc:68:b5:86:80': 1, '08:cc:68:b5:86:81': 2, '08:cc:68:b5:86:84': 3, '64:f6:9d:8e:a4:80': 4, '64:f6:9d:8e:a4:81': 5, '08:cc:68:b5:86:82': 6, '64:f6:9d:89:56:72': 7, 'f4:ec:38:b3:f4:94': 8, '00:22:6b:73:a9:fa': 9, '30:91:8f:b6:59:ab': 10, '64:f6:9d:ad:dc:80': 11, '08:cc:68:b5:8d:f0': 12, '04:62:73:ae:fd:32': 13, '08:cc:68:b5:8d:f5': 14, '64:f6:9d:8e:a4:8f': 15, '9c:30:5b:63:c3:31': 16, '64:f6:9d:8e:a4:8e': 17, '6c:70:9f:e6:1a:a0': 18, 'a0:63:91:de:85:45': 19, 'f4:f2:6d:22:9d:00': 20, '08:cc:68:b4:8c:f5': 21, '08:cc:68:b4:bb:2a': 22, '08:cc:68:b4:bb:2f': 23, '08:cc:68:b5:9a:4a': 24, '08:cc:68:b4:bb:2b': 25, '08:cc:68:b5:9a:4f': 26, '08:cc:68:b4:8c:ff': 27, '08:cc:68:b4:84:9a': 28, '00:22:6b:73:a9:fb': 29, '08:cc:68:b4:84:9e': 30}, {'08:cc:68:b5:86:80': 1, '08:cc:68:b5:86:81': 2, '64:f6:9d:8e:a4:81': 3, '64:f6:9d:8e:a4:80': 4, '64:f6:9d:89:56:72': 5, '08:cc:68:b5:86:84': 6, '08:cc:68:b5:86:82': 7, 'f4:ec:38:b3:f4:94': 8, '00:22:6b:73:a9:fa': 9, '30:91:8f:b6:59:ab': 10, '6c:70:9f:e6:1a:a0': 11, '64:f6:9d:ad:dc:80': 12, '08:cc:68:b5:8d:f5': 13, '9c:30:5b:63:c3:31': 14, '08:cc:68:b5:8d:f0': 15, '64:f6:9d:8e:a4:8e': 16, '64:f6:9d:8e:a4:8f': 17, 'a0:63:91:de:85:45': 18, '08:cc:68:b4:bb:2f': 19, '08:cc:68:b4:bb:2a': 20, '08:cc:68:b4:8c:f5': 21, '08:cc:68:b5:9a:4f': 22, '08:cc:68:b4:bb:2b': 23, '08:cc:68:b5:9a:4a': 24, '08:cc:68:b4:84:9e': 25, '08:cc:68:b4:8c:ff': 26, '08:cc:68:b4:84:9a': 27, '00:22:6b:73:a9:fb': 28}]\n"
     ]
    }
   ],
   "source": [
    "dfs, dists = getProcessedDF(df1)\n",
    "spearmanDicts = []\n",
    "for i in range(0,len(dfs)):\n",
    "    spearmanDicts.append(getRankDict(dfs[0],dfs[i],intersection=False))\n",
    "print(rankDicts)\n",
    "# baseIndex = np.where(dists == 0)[0][0]\n",
    "base = spearmanDicts[0]\n",
    "move = spearmanDicts[1:]\n",
    "Y = dists[1:]"
   ]
  },
  {
   "cell_type": "code",
   "execution_count": 53,
   "metadata": {},
   "outputs": [],
   "source": [
    "def getSpearmans(dict1,dict2):\n",
    "    intersection = set(dict1.keys()) & set(dict2.keys())\n",
    "    result = []\n",
    "    for k in intersection:\n",
    "        result.append((dict1[k],dict2[k]))\n",
    "    result = np.array(result)\n",
    "    resValue = scipy.stats.spearmanr(result)[0]\n",
    "    return resValue"
   ]
  },
  {
   "cell_type": "code",
   "execution_count": 54,
   "metadata": {},
   "outputs": [],
   "source": [
    "def  getJacard(dict1,dict2):\n",
    "    set1 = set(dict1.keys())\n",
    "    set2 = set(dict2.keys())\n",
    "    print(len(set1 & set2),len(set1),len(set2))\n",
    "    jacard = len(set1 & set2) / len(set1 | set2)\n",
    "    return jacard"
   ]
  },
  {
   "cell_type": "code",
   "execution_count": 55,
   "metadata": {},
   "outputs": [
    {
     "name": "stdout",
     "output_type": "stream",
     "text": [
      "43 43 53\n",
      "41 41 53\n",
      "43 43 53\n",
      "47 47 53\n",
      "31 31 53\n",
      "39 39 53\n",
      "35 35 53\n",
      "38 38 53\n",
      "34 34 53\n",
      "34 34 53\n",
      "31 31 53\n",
      "30 30 53\n",
      "26 26 53\n",
      "26 26 53\n",
      "28 28 53\n",
      "25 25 53\n",
      "22 22 53\n",
      "26 26 53\n",
      "25 25 53\n",
      "27 27 53\n",
      "26 26 53\n",
      "24 24 53\n",
      "27 27 53\n",
      "30 30 53\n",
      "28 28 53\n"
     ]
    }
   ],
   "source": [
    "spearmans = []\n",
    "jacards = []\n",
    "for df in move:\n",
    "    spearmans.append(getSpearmans(df,base))\n",
    "    jacards.append(getJacard(df,base))\n",
    "    \n",
    "modelInput = np.array([spearmans,jacards])"
   ]
  },
  {
   "cell_type": "code",
   "execution_count": 56,
   "metadata": {},
   "outputs": [],
   "source": [
    "labels = Y[:,np.newaxis]\n",
    "X = modelInput.swapaxes(1,0)"
   ]
  },
  {
   "cell_type": "code",
   "execution_count": 57,
   "metadata": {},
   "outputs": [],
   "source": [
    "model = LinearRegression()"
   ]
  },
  {
   "cell_type": "code",
   "execution_count": 58,
   "metadata": {},
   "outputs": [],
   "source": [
    "cv = cross_validate(model,X,labels,cv=10,scoring='neg_mean_squared_error', return_train_score = True)"
   ]
  },
  {
   "cell_type": "code",
   "execution_count": 59,
   "metadata": {},
   "outputs": [
    {
     "data": {
      "text/plain": [
       "{'fit_time': array([0.        , 0.        , 0.        , 0.        , 0.        ,\n",
       "        0.        , 0.        , 0.00399566, 0.        , 0.        ]),\n",
       " 'score_time': array([0., 0., 0., 0., 0., 0., 0., 0., 0., 0.]),\n",
       " 'test_score': array([ -4.74107355, -24.4570598 ,  -2.69985307,  -3.00624476,\n",
       "        -28.84762862, -55.15261162,  -4.9723458 , -20.74744207,\n",
       "        -21.69523497, -89.48753782]),\n",
       " 'train_score': array([-16.29116936, -13.77403156, -16.3269523 , -16.3095152 ,\n",
       "        -13.56665996, -12.52627869, -15.61881552, -14.40553417,\n",
       "        -14.34668892,  -9.88475678])}"
      ]
     },
     "execution_count": 59,
     "metadata": {},
     "output_type": "execute_result"
    }
   ],
   "source": [
    "cv"
   ]
  },
  {
   "cell_type": "code",
   "execution_count": 63,
   "metadata": {},
   "outputs": [
    {
     "data": {
      "text/plain": [
       "<matplotlib.axes._subplots.AxesSubplot at 0x29d949ac198>"
      ]
     },
     "execution_count": 63,
     "metadata": {},
     "output_type": "execute_result"
    },
    {
     "data": {
      "image/png": "[encoded data removed]",
      "text/plain": [
       "<Figure size 432x288 with 1 Axes>"
      ]
     },
     "metadata": {},
     "output_type": "display_data"
    }
   ],
   "source": [
    "sns.regplot(labels[:,0],X[:,0])"
   ]
  },
  {
   "cell_type": "code",
   "execution_count": 69,
   "metadata": {},
   "outputs": [
    {
     "data": {
      "text/plain": [
       "array([[ 2.37518163],\n",
       "       [ 3.89728628],\n",
       "       [ 3.25469364],\n",
       "       [ 1.26942906],\n",
       "       [11.98528221],\n",
       "       [ 6.71769   ],\n",
       "       [ 8.12633072],\n",
       "       [ 6.64676772],\n",
       "       [11.14886802],\n",
       "       [ 9.88729547],\n",
       "       [12.35687065],\n",
       "       [14.40337342],\n",
       "       [20.06354163],\n",
       "       [14.56896184],\n",
       "       [17.15140374],\n",
       "       [17.92120339],\n",
       "       [24.2707326 ],\n",
       "       [16.106436  ],\n",
       "       [17.38245732],\n",
       "       [18.42160506],\n",
       "       [15.6779596 ],\n",
       "       [18.56450972],\n",
       "       [18.53412513],\n",
       "       [16.02708677],\n",
       "       [18.24090837]])"
      ]
     },
     "execution_count": 69,
     "metadata": {},
     "output_type": "execute_result"
    }
   ],
   "source": [
    "model.fit(X,labels)\n",
    "model.predict(X)"
   ]
  },
  {
   "cell_type": "code",
   "execution_count": 62,
   "metadata": {},
   "outputs": [
    {
     "ename": "AttributeError",
     "evalue": "'LinearRegression' object has no attribute 'coef'",
     "output_type": "error",
     "traceback": [
      "\u001b[1;31m---------------------------------------------------------------------------\u001b[0m",
      "\u001b[1;31mAttributeError\u001b[0m                            Traceback (most recent call last)",
      "\u001b[1;32m<ipython-input-62-a451a9aeb5c2>\u001b[0m in \u001b[0;36m<module>\u001b[1;34m()\u001b[0m\n\u001b[1;32m----> 1\u001b[1;33m \u001b[0mmodel\u001b[0m\u001b[1;33m.\u001b[0m\u001b[0mcoef\u001b[0m\u001b[1;33m\u001b[0m\u001b[0m\n\u001b[0m",
      "\u001b[1;31mAttributeError\u001b[0m: 'LinearRegression' object has no attribute 'coef'"
     ]
    }
   ],
   "source": [
    "model.coef"
   ]
  },
  {
   "cell_type": "code",
   "execution_count": null,
   "metadata": {},
   "outputs": [],
   "source": []
  },
  {
   "cell_type": "code",
   "execution_count": null,
   "metadata": {},
   "outputs": [],
   "source": []
  },
  {
   "cell_type": "code",
   "execution_count": null,
   "metadata": {},
   "outputs": [],
   "source": []
  }
 ],
 "metadata": {
  "kernelspec": {
   "display_name": "Python 3",
   "language": "python",
   "name": "python3"
  },
  "language_info": {
   "codemirror_mode": {
    "name": "ipython",
    "version": 3
   },
   "file_extension": ".py",
   "mimetype": "text/x-python",
   "name": "python",
   "nbconvert_exporter": "python",
   "pygments_lexer": "ipython3",
   "version": "3.6.5"
  }
 },
 "nbformat": 4,
 "nbformat_minor": 2
}
